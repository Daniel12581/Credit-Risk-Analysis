{
 "cells": [
  {
   "metadata": {},
   "cell_type": "markdown",
   "source": "**Importing Libraries**",
   "id": "a9a8688f5488be76"
  },
  {
   "cell_type": "code",
   "id": "initial_id",
   "metadata": {
    "collapsed": true,
    "ExecuteTime": {
     "end_time": "2025-07-25T06:50:44.323594Z",
     "start_time": "2025-07-25T06:50:44.318656Z"
    }
   },
   "source": [
    "import numpy as np\n",
    "import pandas as pd\n",
    "import matplotlib.pyplot as plt\n",
    "from sklearn.linear_model import LogisticRegression\n",
    "from sklearn.metrics import confusion_matrix, ConfusionMatrixDisplay, roc_curve, roc_auc_score\n",
    "import scipy.stats as stat\n",
    "import statsmodels.api as sm\n",
    "from statsmodels.stats.outliers_influence import variance_inflation_factor\n",
    "from sklearn.metrics import classification_report\n",
    "from sklearn.metrics import confusion_matrix, ConfusionMatrixDisplay\n",
    "from sklearn.metrics import accuracy_score"
   ],
   "outputs": [],
   "execution_count": 174
  },
  {
   "metadata": {},
   "cell_type": "markdown",
   "source": "**Importing Preprocessed Data**",
   "id": "2f5deda88795882a"
  },
  {
   "metadata": {
    "ExecuteTime": {
     "end_time": "2025-07-25T06:50:44.496071Z",
     "start_time": "2025-07-25T06:50:44.337169Z"
    }
   },
   "cell_type": "code",
   "source": [
    "X_train = pd.read_csv(\"data/X_train.csv\")\n",
    "X_test = pd.read_csv(\"data/X_test.csv\")\n",
    "y_train = pd.read_csv(\"data/y_train.csv\")\n",
    "y_test = pd.read_csv(\"data/y_test.csv\")"
   ],
   "id": "ed1bf90dfb0f6f21",
   "outputs": [],
   "execution_count": 175
  },
  {
   "metadata": {
    "ExecuteTime": {
     "end_time": "2025-07-25T06:50:44.516745Z",
     "start_time": "2025-07-25T06:50:44.502230Z"
    }
   },
   "cell_type": "code",
   "source": "X_train.head()",
   "id": "7ceece341660287b",
   "outputs": [
    {
     "data": {
      "text/plain": [
       "   RevolvingUtilizationOfUnsecuredLines  age  \\\n",
       "0                              0.851913   49   \n",
       "1                              0.227663   40   \n",
       "2                              0.043998   76   \n",
       "3                              0.102069   53   \n",
       "4                              1.000000   49   \n",
       "\n",
       "   NumberOfTime30-59DaysPastDueNotWorse  DebtRatio  MonthlyIncome  \\\n",
       "0                                     1   1.913867            0.0   \n",
       "1                                     0   1.913867            0.0   \n",
       "2                                     0   0.016284        10500.0   \n",
       "3                                     0   0.055758         8500.0   \n",
       "4                                     0   0.204955         4600.0   \n",
       "\n",
       "   NumberOfOpenCreditLinesAndLoans  NumberOfTimes90DaysLate  \\\n",
       "0                                4                        3   \n",
       "1                               13                        0   \n",
       "2                               13                        0   \n",
       "3                                5                        0   \n",
       "4                                2                        1   \n",
       "\n",
       "   NumberRealEstateLoansOrLines  NumberOfTime60-89DaysPastDueNotWorse  \\\n",
       "0                             0                                     0   \n",
       "1                             1                                     0   \n",
       "2                             0                                     0   \n",
       "3                             0                                     0   \n",
       "4                             0                                     0   \n",
       "\n",
       "   NumberOfDependents  ...  age:46-52  age:53-59  age:60-67  age:>68  \\\n",
       "0                 0.0  ...          1          0          0        0   \n",
       "1                 3.0  ...          0          0          0        0   \n",
       "2                 0.0  ...          0          0          0        1   \n",
       "3                 4.0  ...          0          1          0        0   \n",
       "4                 1.0  ...          1          0          0        0   \n",
       "\n",
       "   rev:<=0.0132  rev:0.133-0.0545  rev:0.0545-0.154  rev:0.154-0.381  \\\n",
       "0             0                 0                 0                0   \n",
       "1             0                 0                 0                1   \n",
       "2             0                 0                 0                0   \n",
       "3             0                 0                 1                0   \n",
       "4             0                 0                 0                0   \n",
       "\n",
       "   rev:0.381-0.803  rev:0.803-1.355  \n",
       "0                0                1  \n",
       "1                0                0  \n",
       "2                0                0  \n",
       "3                0                0  \n",
       "4                0                1  \n",
       "\n",
       "[5 rows x 22 columns]"
      ],
      "text/html": [
       "<div>\n",
       "<style scoped>\n",
       "    .dataframe tbody tr th:only-of-type {\n",
       "        vertical-align: middle;\n",
       "    }\n",
       "\n",
       "    .dataframe tbody tr th {\n",
       "        vertical-align: top;\n",
       "    }\n",
       "\n",
       "    .dataframe thead th {\n",
       "        text-align: right;\n",
       "    }\n",
       "</style>\n",
       "<table border=\"1\" class=\"dataframe\">\n",
       "  <thead>\n",
       "    <tr style=\"text-align: right;\">\n",
       "      <th></th>\n",
       "      <th>RevolvingUtilizationOfUnsecuredLines</th>\n",
       "      <th>age</th>\n",
       "      <th>NumberOfTime30-59DaysPastDueNotWorse</th>\n",
       "      <th>DebtRatio</th>\n",
       "      <th>MonthlyIncome</th>\n",
       "      <th>NumberOfOpenCreditLinesAndLoans</th>\n",
       "      <th>NumberOfTimes90DaysLate</th>\n",
       "      <th>NumberRealEstateLoansOrLines</th>\n",
       "      <th>NumberOfTime60-89DaysPastDueNotWorse</th>\n",
       "      <th>NumberOfDependents</th>\n",
       "      <th>...</th>\n",
       "      <th>age:46-52</th>\n",
       "      <th>age:53-59</th>\n",
       "      <th>age:60-67</th>\n",
       "      <th>age:&gt;68</th>\n",
       "      <th>rev:&lt;=0.0132</th>\n",
       "      <th>rev:0.133-0.0545</th>\n",
       "      <th>rev:0.0545-0.154</th>\n",
       "      <th>rev:0.154-0.381</th>\n",
       "      <th>rev:0.381-0.803</th>\n",
       "      <th>rev:0.803-1.355</th>\n",
       "    </tr>\n",
       "  </thead>\n",
       "  <tbody>\n",
       "    <tr>\n",
       "      <th>0</th>\n",
       "      <td>0.851913</td>\n",
       "      <td>49</td>\n",
       "      <td>1</td>\n",
       "      <td>1.913867</td>\n",
       "      <td>0.0</td>\n",
       "      <td>4</td>\n",
       "      <td>3</td>\n",
       "      <td>0</td>\n",
       "      <td>0</td>\n",
       "      <td>0.0</td>\n",
       "      <td>...</td>\n",
       "      <td>1</td>\n",
       "      <td>0</td>\n",
       "      <td>0</td>\n",
       "      <td>0</td>\n",
       "      <td>0</td>\n",
       "      <td>0</td>\n",
       "      <td>0</td>\n",
       "      <td>0</td>\n",
       "      <td>0</td>\n",
       "      <td>1</td>\n",
       "    </tr>\n",
       "    <tr>\n",
       "      <th>1</th>\n",
       "      <td>0.227663</td>\n",
       "      <td>40</td>\n",
       "      <td>0</td>\n",
       "      <td>1.913867</td>\n",
       "      <td>0.0</td>\n",
       "      <td>13</td>\n",
       "      <td>0</td>\n",
       "      <td>1</td>\n",
       "      <td>0</td>\n",
       "      <td>3.0</td>\n",
       "      <td>...</td>\n",
       "      <td>0</td>\n",
       "      <td>0</td>\n",
       "      <td>0</td>\n",
       "      <td>0</td>\n",
       "      <td>0</td>\n",
       "      <td>0</td>\n",
       "      <td>0</td>\n",
       "      <td>1</td>\n",
       "      <td>0</td>\n",
       "      <td>0</td>\n",
       "    </tr>\n",
       "    <tr>\n",
       "      <th>2</th>\n",
       "      <td>0.043998</td>\n",
       "      <td>76</td>\n",
       "      <td>0</td>\n",
       "      <td>0.016284</td>\n",
       "      <td>10500.0</td>\n",
       "      <td>13</td>\n",
       "      <td>0</td>\n",
       "      <td>0</td>\n",
       "      <td>0</td>\n",
       "      <td>0.0</td>\n",
       "      <td>...</td>\n",
       "      <td>0</td>\n",
       "      <td>0</td>\n",
       "      <td>0</td>\n",
       "      <td>1</td>\n",
       "      <td>0</td>\n",
       "      <td>0</td>\n",
       "      <td>0</td>\n",
       "      <td>0</td>\n",
       "      <td>0</td>\n",
       "      <td>0</td>\n",
       "    </tr>\n",
       "    <tr>\n",
       "      <th>3</th>\n",
       "      <td>0.102069</td>\n",
       "      <td>53</td>\n",
       "      <td>0</td>\n",
       "      <td>0.055758</td>\n",
       "      <td>8500.0</td>\n",
       "      <td>5</td>\n",
       "      <td>0</td>\n",
       "      <td>0</td>\n",
       "      <td>0</td>\n",
       "      <td>4.0</td>\n",
       "      <td>...</td>\n",
       "      <td>0</td>\n",
       "      <td>1</td>\n",
       "      <td>0</td>\n",
       "      <td>0</td>\n",
       "      <td>0</td>\n",
       "      <td>0</td>\n",
       "      <td>1</td>\n",
       "      <td>0</td>\n",
       "      <td>0</td>\n",
       "      <td>0</td>\n",
       "    </tr>\n",
       "    <tr>\n",
       "      <th>4</th>\n",
       "      <td>1.000000</td>\n",
       "      <td>49</td>\n",
       "      <td>0</td>\n",
       "      <td>0.204955</td>\n",
       "      <td>4600.0</td>\n",
       "      <td>2</td>\n",
       "      <td>1</td>\n",
       "      <td>0</td>\n",
       "      <td>0</td>\n",
       "      <td>1.0</td>\n",
       "      <td>...</td>\n",
       "      <td>1</td>\n",
       "      <td>0</td>\n",
       "      <td>0</td>\n",
       "      <td>0</td>\n",
       "      <td>0</td>\n",
       "      <td>0</td>\n",
       "      <td>0</td>\n",
       "      <td>0</td>\n",
       "      <td>0</td>\n",
       "      <td>1</td>\n",
       "    </tr>\n",
       "  </tbody>\n",
       "</table>\n",
       "<p>5 rows × 22 columns</p>\n",
       "</div>"
      ]
     },
     "execution_count": 176,
     "metadata": {},
     "output_type": "execute_result"
    }
   ],
   "execution_count": 176
  },
  {
   "metadata": {
    "ExecuteTime": {
     "end_time": "2025-07-25T06:50:44.536926Z",
     "start_time": "2025-07-25T06:50:44.529371Z"
    }
   },
   "cell_type": "code",
   "source": "y_train.head()",
   "id": "26b726190a6b5afc",
   "outputs": [
    {
     "data": {
      "text/plain": [
       "   SeriousDlqin2yrs\n",
       "0                 1\n",
       "1                 0\n",
       "2                 0\n",
       "3                 0\n",
       "4                 0"
      ],
      "text/html": [
       "<div>\n",
       "<style scoped>\n",
       "    .dataframe tbody tr th:only-of-type {\n",
       "        vertical-align: middle;\n",
       "    }\n",
       "\n",
       "    .dataframe tbody tr th {\n",
       "        vertical-align: top;\n",
       "    }\n",
       "\n",
       "    .dataframe thead th {\n",
       "        text-align: right;\n",
       "    }\n",
       "</style>\n",
       "<table border=\"1\" class=\"dataframe\">\n",
       "  <thead>\n",
       "    <tr style=\"text-align: right;\">\n",
       "      <th></th>\n",
       "      <th>SeriousDlqin2yrs</th>\n",
       "    </tr>\n",
       "  </thead>\n",
       "  <tbody>\n",
       "    <tr>\n",
       "      <th>0</th>\n",
       "      <td>1</td>\n",
       "    </tr>\n",
       "    <tr>\n",
       "      <th>1</th>\n",
       "      <td>0</td>\n",
       "    </tr>\n",
       "    <tr>\n",
       "      <th>2</th>\n",
       "      <td>0</td>\n",
       "    </tr>\n",
       "    <tr>\n",
       "      <th>3</th>\n",
       "      <td>0</td>\n",
       "    </tr>\n",
       "    <tr>\n",
       "      <th>4</th>\n",
       "      <td>0</td>\n",
       "    </tr>\n",
       "  </tbody>\n",
       "</table>\n",
       "</div>"
      ]
     },
     "execution_count": 177,
     "metadata": {},
     "output_type": "execute_result"
    }
   ],
   "execution_count": 177
  },
  {
   "metadata": {},
   "cell_type": "markdown",
   "source": "**Checking and Removing Multicollinearity Between Features**",
   "id": "6f9e05f46ab1ba5c"
  },
  {
   "metadata": {
    "ExecuteTime": {
     "end_time": "2025-07-25T06:50:44.652785Z",
     "start_time": "2025-07-25T06:50:44.564961Z"
    }
   },
   "cell_type": "code",
   "source": [
    "cols = [\n",
    "    \"age\",\n",
    "    \"NumberOfTime30-59DaysPastDueNotWorse\",\n",
    "    \"NumberOfTimes90DaysLate\",\n",
    "    \"NumberOfTime60-89DaysPastDueNotWorse\",\n",
    "    \"RevolvingUtilizationOfUnsecuredLines\",\n",
    "]\n",
    "\n",
    "X_vif = X_train[cols]\n",
    "\n",
    "vif = pd.Series(\n",
    "    [variance_inflation_factor(X_vif.values, i) for i in range(X_vif.shape[1])],\n",
    "    index=X_vif.columns,\n",
    "    name=\"VIF\",\n",
    ")\n",
    "\n",
    "print(vif.round(2))"
   ],
   "id": "3a0193bb193c3f47",
   "outputs": [
    {
     "name": "stdout",
     "output_type": "stream",
     "text": [
      "age                                      1.55\n",
      "NumberOfTime30-59DaysPastDueNotWorse    36.70\n",
      "NumberOfTimes90DaysLate                 64.16\n",
      "NumberOfTime60-89DaysPastDueNotWorse    82.66\n",
      "RevolvingUtilizationOfUnsecuredLines     1.61\n",
      "Name: VIF, dtype: float64\n"
     ]
    }
   ],
   "execution_count": 178
  },
  {
   "metadata": {},
   "cell_type": "markdown",
   "source": "As the VIF for 30-59 days, 60-89 days and 90 days+ are all above 5, we will remove the feature with the greater VIF, 60-89 days.",
   "id": "4313487a893029d7"
  },
  {
   "metadata": {
    "ExecuteTime": {
     "end_time": "2025-07-25T06:50:44.721212Z",
     "start_time": "2025-07-25T06:50:44.660858Z"
    }
   },
   "cell_type": "code",
   "source": [
    "cols = [\n",
    "    \"age\",\n",
    "    \"NumberOfTime30-59DaysPastDueNotWorse\",\n",
    "    \"NumberOfTimes90DaysLate\",\n",
    "    \"RevolvingUtilizationOfUnsecuredLines\",\n",
    "]\n",
    "\n",
    "X_vif = X_train[cols]\n",
    "\n",
    "vif = pd.Series(\n",
    "    [variance_inflation_factor(X_vif.values, i) for i in range(X_vif.shape[1])],\n",
    "    index=X_vif.columns,\n",
    "    name=\"VIF\",\n",
    ")\n",
    "\n",
    "print(vif.round(2))"
   ],
   "id": "4188a4820950d496",
   "outputs": [
    {
     "name": "stdout",
     "output_type": "stream",
     "text": [
      "age                                      1.55\n",
      "NumberOfTime30-59DaysPastDueNotWorse    27.52\n",
      "NumberOfTimes90DaysLate                 27.29\n",
      "RevolvingUtilizationOfUnsecuredLines     1.57\n",
      "Name: VIF, dtype: float64\n"
     ]
    }
   ],
   "execution_count": 179
  },
  {
   "metadata": {},
   "cell_type": "markdown",
   "source": "Againt, the VIF for 30-59 days and 90 days+ are larger than 5. We will remove 90 days+",
   "id": "d4fc940d9c4ada0"
  },
  {
   "metadata": {
    "ExecuteTime": {
     "end_time": "2025-07-25T06:50:44.777624Z",
     "start_time": "2025-07-25T06:50:44.729238Z"
    }
   },
   "cell_type": "code",
   "source": [
    "cols = [\n",
    "    \"age\",\n",
    "    \"NumberOfTime30-59DaysPastDueNotWorse\",\n",
    "    \"RevolvingUtilizationOfUnsecuredLines\",\n",
    "]\n",
    "\n",
    "X_vif = X_train[cols]\n",
    "\n",
    "vif = pd.Series(\n",
    "    [variance_inflation_factor(X_vif.values, i) for i in range(X_vif.shape[1])],\n",
    "    index=X_vif.columns,\n",
    "    name=\"VIF\",\n",
    ")\n",
    "\n",
    "print(vif.round(2))"
   ],
   "id": "fdbf367846f4aa55",
   "outputs": [
    {
     "name": "stdout",
     "output_type": "stream",
     "text": [
      "age                                     1.53\n",
      "NumberOfTime30-59DaysPastDueNotWorse    1.02\n",
      "RevolvingUtilizationOfUnsecuredLines    1.56\n",
      "Name: VIF, dtype: float64\n"
     ]
    }
   ],
   "execution_count": 180
  },
  {
   "metadata": {},
   "cell_type": "markdown",
   "source": "The VIF for the remaining coefficients are at an acceptable level now",
   "id": "6566d75f6ababe68"
  },
  {
   "metadata": {},
   "cell_type": "markdown",
   "source": "**Filtering For Only The Remaining Selected Features**",
   "id": "a816e23ce9cb4e78"
  },
  {
   "metadata": {
    "ExecuteTime": {
     "end_time": "2025-07-25T06:50:44.796230Z",
     "start_time": "2025-07-25T06:50:44.790197Z"
    }
   },
   "cell_type": "code",
   "source": "X_train.columns",
   "id": "67975cd6dc9a9d18",
   "outputs": [
    {
     "data": {
      "text/plain": [
       "Index(['RevolvingUtilizationOfUnsecuredLines', 'age',\n",
       "       'NumberOfTime30-59DaysPastDueNotWorse', 'DebtRatio', 'MonthlyIncome',\n",
       "       'NumberOfOpenCreditLinesAndLoans', 'NumberOfTimes90DaysLate',\n",
       "       'NumberRealEstateLoansOrLines', 'NumberOfTime60-89DaysPastDueNotWorse',\n",
       "       'NumberOfDependents', 'age:<37', 'age:38-45', 'age:46-52', 'age:53-59',\n",
       "       'age:60-67', 'age:>68', 'rev:<=0.0132', 'rev:0.133-0.0545',\n",
       "       'rev:0.0545-0.154', 'rev:0.154-0.381', 'rev:0.381-0.803',\n",
       "       'rev:0.803-1.355'],\n",
       "      dtype='object')"
      ]
     },
     "execution_count": 181,
     "metadata": {},
     "output_type": "execute_result"
    }
   ],
   "execution_count": 181
  },
  {
   "metadata": {
    "ExecuteTime": {
     "end_time": "2025-07-25T06:50:44.830272Z",
     "start_time": "2025-07-25T06:50:44.814366Z"
    }
   },
   "cell_type": "code",
   "source": [
    "selected_features1 = ['NumberOfTime30-59DaysPastDueNotWorse',\n",
    "                     'age:<37', 'age:38-45', 'age:46-52', 'age:53-59',\n",
    "                     'age:60-67', 'age:>68', 'rev:<=0.0132', 'rev:0.133-0.0545',\n",
    "                     'rev:0.0545-0.154', 'rev:0.154-0.381', 'rev:0.381-0.803',\n",
    "                     'rev:0.803-1.355']\n",
    "\n",
    "reference_categories1 = ['age:<37', 'rev:<=0.0132']\n",
    "#reference_categories = []"
   ],
   "id": "b8140f86e018f728",
   "outputs": [],
   "execution_count": 182
  },
  {
   "metadata": {
    "ExecuteTime": {
     "end_time": "2025-07-25T06:50:44.849507Z",
     "start_time": "2025-07-25T06:50:44.835289Z"
    }
   },
   "cell_type": "code",
   "source": [
    "X_train_filtered1 = X_train[selected_features1]\n",
    "X_train_filtered1 = X_train_filtered1.drop(columns = reference_categories1)\n",
    "X_test_filtered1 = X_test[selected_features1]\n",
    "X_test_filtered1 = X_test_filtered1.drop(columns = reference_categories1)"
   ],
   "id": "a0a8bd2c83b60e17",
   "outputs": [],
   "execution_count": 183
  },
  {
   "metadata": {
    "ExecuteTime": {
     "end_time": "2025-07-25T06:50:44.864971Z",
     "start_time": "2025-07-25T06:50:44.855522Z"
    }
   },
   "cell_type": "code",
   "source": "X_train_filtered1.head()",
   "id": "d52143b9fc92331e",
   "outputs": [
    {
     "data": {
      "text/plain": [
       "   NumberOfTime30-59DaysPastDueNotWorse  age:38-45  age:46-52  age:53-59  \\\n",
       "0                                     1          0          1          0   \n",
       "1                                     0          1          0          0   \n",
       "2                                     0          0          0          0   \n",
       "3                                     0          0          0          1   \n",
       "4                                     0          0          1          0   \n",
       "\n",
       "   age:60-67  age:>68  rev:0.133-0.0545  rev:0.0545-0.154  rev:0.154-0.381  \\\n",
       "0          0        0                 0                 0                0   \n",
       "1          0        0                 0                 0                1   \n",
       "2          0        1                 0                 0                0   \n",
       "3          0        0                 0                 1                0   \n",
       "4          0        0                 0                 0                0   \n",
       "\n",
       "   rev:0.381-0.803  rev:0.803-1.355  \n",
       "0                0                1  \n",
       "1                0                0  \n",
       "2                0                0  \n",
       "3                0                0  \n",
       "4                0                1  "
      ],
      "text/html": [
       "<div>\n",
       "<style scoped>\n",
       "    .dataframe tbody tr th:only-of-type {\n",
       "        vertical-align: middle;\n",
       "    }\n",
       "\n",
       "    .dataframe tbody tr th {\n",
       "        vertical-align: top;\n",
       "    }\n",
       "\n",
       "    .dataframe thead th {\n",
       "        text-align: right;\n",
       "    }\n",
       "</style>\n",
       "<table border=\"1\" class=\"dataframe\">\n",
       "  <thead>\n",
       "    <tr style=\"text-align: right;\">\n",
       "      <th></th>\n",
       "      <th>NumberOfTime30-59DaysPastDueNotWorse</th>\n",
       "      <th>age:38-45</th>\n",
       "      <th>age:46-52</th>\n",
       "      <th>age:53-59</th>\n",
       "      <th>age:60-67</th>\n",
       "      <th>age:&gt;68</th>\n",
       "      <th>rev:0.133-0.0545</th>\n",
       "      <th>rev:0.0545-0.154</th>\n",
       "      <th>rev:0.154-0.381</th>\n",
       "      <th>rev:0.381-0.803</th>\n",
       "      <th>rev:0.803-1.355</th>\n",
       "    </tr>\n",
       "  </thead>\n",
       "  <tbody>\n",
       "    <tr>\n",
       "      <th>0</th>\n",
       "      <td>1</td>\n",
       "      <td>0</td>\n",
       "      <td>1</td>\n",
       "      <td>0</td>\n",
       "      <td>0</td>\n",
       "      <td>0</td>\n",
       "      <td>0</td>\n",
       "      <td>0</td>\n",
       "      <td>0</td>\n",
       "      <td>0</td>\n",
       "      <td>1</td>\n",
       "    </tr>\n",
       "    <tr>\n",
       "      <th>1</th>\n",
       "      <td>0</td>\n",
       "      <td>1</td>\n",
       "      <td>0</td>\n",
       "      <td>0</td>\n",
       "      <td>0</td>\n",
       "      <td>0</td>\n",
       "      <td>0</td>\n",
       "      <td>0</td>\n",
       "      <td>1</td>\n",
       "      <td>0</td>\n",
       "      <td>0</td>\n",
       "    </tr>\n",
       "    <tr>\n",
       "      <th>2</th>\n",
       "      <td>0</td>\n",
       "      <td>0</td>\n",
       "      <td>0</td>\n",
       "      <td>0</td>\n",
       "      <td>0</td>\n",
       "      <td>1</td>\n",
       "      <td>0</td>\n",
       "      <td>0</td>\n",
       "      <td>0</td>\n",
       "      <td>0</td>\n",
       "      <td>0</td>\n",
       "    </tr>\n",
       "    <tr>\n",
       "      <th>3</th>\n",
       "      <td>0</td>\n",
       "      <td>0</td>\n",
       "      <td>0</td>\n",
       "      <td>1</td>\n",
       "      <td>0</td>\n",
       "      <td>0</td>\n",
       "      <td>0</td>\n",
       "      <td>1</td>\n",
       "      <td>0</td>\n",
       "      <td>0</td>\n",
       "      <td>0</td>\n",
       "    </tr>\n",
       "    <tr>\n",
       "      <th>4</th>\n",
       "      <td>0</td>\n",
       "      <td>0</td>\n",
       "      <td>1</td>\n",
       "      <td>0</td>\n",
       "      <td>0</td>\n",
       "      <td>0</td>\n",
       "      <td>0</td>\n",
       "      <td>0</td>\n",
       "      <td>0</td>\n",
       "      <td>0</td>\n",
       "      <td>1</td>\n",
       "    </tr>\n",
       "  </tbody>\n",
       "</table>\n",
       "</div>"
      ]
     },
     "execution_count": 184,
     "metadata": {},
     "output_type": "execute_result"
    }
   ],
   "execution_count": 184
  },
  {
   "metadata": {},
   "cell_type": "markdown",
   "source": "**Fitting Initial Mode**",
   "id": "2c810d7817a11630"
  },
  {
   "metadata": {
    "ExecuteTime": {
     "end_time": "2025-07-25T06:50:44.886508Z",
     "start_time": "2025-07-25T06:50:44.879003Z"
    }
   },
   "cell_type": "code",
   "source": [
    "class LogisticRegression_p_values:\n",
    "    def __init__(self, *args, **kwargs):\n",
    "        self.model = LogisticRegression(*args, **kwargs)\n",
    "\n",
    "    def fit(self, X, y):\n",
    "        y = np.asarray(y).ravel()\n",
    "\n",
    "        self.model.fit(X, y)\n",
    "        self.coef_ = self.model.coef_\n",
    "        self.intercept_ = self.model.intercept_\n",
    "\n",
    "        # calculate p_values for each coefficient\n",
    "        denom = (2.0 * (1.0 + np.cosh(self.model.decision_function(X))))\n",
    "        denom = np.tile(denom, (X.shape[1], 1)).T\n",
    "        F_ij = np.dot((X / denom).T, X)\n",
    "        F_ij_float64 = F_ij.astype(np.float64)\n",
    "        Cramer_Rao = np.linalg.pinv(F_ij_float64)\n",
    "        diag = np.diag(Cramer_Rao).copy()\n",
    "        diag[diag < 0] = 0.0\n",
    "        sigma_estimates = np.sqrt(diag)\n",
    "        z_scores = self.coef_[0] / (sigma_estimates + 0.01)\n",
    "        p_values = [stat.norm.sf(abs(x)) * 2 for x in z_scores]\n",
    "        self.p_values = np.append(np.nan, np.round(p_values, 3))"
   ],
   "id": "b63265c23dfc3f94",
   "outputs": [],
   "execution_count": 185
  },
  {
   "metadata": {
    "ExecuteTime": {
     "end_time": "2025-07-25T06:50:45.111395Z",
     "start_time": "2025-07-25T06:50:44.892037Z"
    }
   },
   "cell_type": "code",
   "source": [
    "model1 = LogisticRegression_p_values()\n",
    "model1.fit(X_train_filtered1, y_train)\n"
   ],
   "id": "f25d37a03f0900c0",
   "outputs": [],
   "execution_count": 186
  },
  {
   "metadata": {
    "ExecuteTime": {
     "end_time": "2025-07-25T06:50:45.123959Z",
     "start_time": "2025-07-25T06:50:45.116913Z"
    }
   },
   "cell_type": "code",
   "source": [
    "feature_name = X_train_filtered1.columns.values\n",
    "summary_table1 = pd.DataFrame(columns = ['Feature name'], data = feature_name)\n",
    "summary_table1['Coefficients'] = np.transpose(model1.coef_)\n",
    "summary_table1.index = summary_table1.index + 1\n",
    "summary_table1.loc[0] = ['Intercept', model1.intercept_[0]]\n",
    "summary_table1 = summary_table1.sort_index()\n",
    "summary_table1['p_values'] = model1.p_values\n",
    "summary_table1['p > 0.05'] = np.where((summary_table1['p_values'] > 0.05), \"*\", \"\")"
   ],
   "id": "5cc17b8813433f04",
   "outputs": [],
   "execution_count": 187
  },
  {
   "metadata": {
    "ExecuteTime": {
     "end_time": "2025-07-25T06:50:45.238377Z",
     "start_time": "2025-07-25T06:50:45.188713Z"
    }
   },
   "cell_type": "code",
   "source": "summary_table1",
   "id": "ef41b2a8e6322a71",
   "outputs": [
    {
     "data": {
      "text/plain": [
       "                            Feature name  Coefficients  p_values p > 0.05\n",
       "0                              Intercept     -3.691419       NaN         \n",
       "1   NumberOfTime30-59DaysPastDueNotWorse      0.027233     0.022         \n",
       "2                              age:38-45     -0.001498     0.972        *\n",
       "3                              age:46-52     -0.018739     0.663        *\n",
       "4                              age:53-59     -0.180495     0.000         \n",
       "5                              age:60-67     -0.491060     0.000         \n",
       "6                                age:>68     -0.818426     0.000         \n",
       "7                       rev:0.133-0.0545      0.000000     1.000        *\n",
       "8                       rev:0.0545-0.154      0.138478     0.025         \n",
       "9                        rev:0.154-0.381      0.685712     0.000         \n",
       "10                       rev:0.381-0.803      1.526324     0.000         \n",
       "11                       rev:0.803-1.355      2.441666     0.000         "
      ],
      "text/html": [
       "<div>\n",
       "<style scoped>\n",
       "    .dataframe tbody tr th:only-of-type {\n",
       "        vertical-align: middle;\n",
       "    }\n",
       "\n",
       "    .dataframe tbody tr th {\n",
       "        vertical-align: top;\n",
       "    }\n",
       "\n",
       "    .dataframe thead th {\n",
       "        text-align: right;\n",
       "    }\n",
       "</style>\n",
       "<table border=\"1\" class=\"dataframe\">\n",
       "  <thead>\n",
       "    <tr style=\"text-align: right;\">\n",
       "      <th></th>\n",
       "      <th>Feature name</th>\n",
       "      <th>Coefficients</th>\n",
       "      <th>p_values</th>\n",
       "      <th>p &gt; 0.05</th>\n",
       "    </tr>\n",
       "  </thead>\n",
       "  <tbody>\n",
       "    <tr>\n",
       "      <th>0</th>\n",
       "      <td>Intercept</td>\n",
       "      <td>-3.691419</td>\n",
       "      <td>NaN</td>\n",
       "      <td></td>\n",
       "    </tr>\n",
       "    <tr>\n",
       "      <th>1</th>\n",
       "      <td>NumberOfTime30-59DaysPastDueNotWorse</td>\n",
       "      <td>0.027233</td>\n",
       "      <td>0.022</td>\n",
       "      <td></td>\n",
       "    </tr>\n",
       "    <tr>\n",
       "      <th>2</th>\n",
       "      <td>age:38-45</td>\n",
       "      <td>-0.001498</td>\n",
       "      <td>0.972</td>\n",
       "      <td>*</td>\n",
       "    </tr>\n",
       "    <tr>\n",
       "      <th>3</th>\n",
       "      <td>age:46-52</td>\n",
       "      <td>-0.018739</td>\n",
       "      <td>0.663</td>\n",
       "      <td>*</td>\n",
       "    </tr>\n",
       "    <tr>\n",
       "      <th>4</th>\n",
       "      <td>age:53-59</td>\n",
       "      <td>-0.180495</td>\n",
       "      <td>0.000</td>\n",
       "      <td></td>\n",
       "    </tr>\n",
       "    <tr>\n",
       "      <th>5</th>\n",
       "      <td>age:60-67</td>\n",
       "      <td>-0.491060</td>\n",
       "      <td>0.000</td>\n",
       "      <td></td>\n",
       "    </tr>\n",
       "    <tr>\n",
       "      <th>6</th>\n",
       "      <td>age:&gt;68</td>\n",
       "      <td>-0.818426</td>\n",
       "      <td>0.000</td>\n",
       "      <td></td>\n",
       "    </tr>\n",
       "    <tr>\n",
       "      <th>7</th>\n",
       "      <td>rev:0.133-0.0545</td>\n",
       "      <td>0.000000</td>\n",
       "      <td>1.000</td>\n",
       "      <td>*</td>\n",
       "    </tr>\n",
       "    <tr>\n",
       "      <th>8</th>\n",
       "      <td>rev:0.0545-0.154</td>\n",
       "      <td>0.138478</td>\n",
       "      <td>0.025</td>\n",
       "      <td></td>\n",
       "    </tr>\n",
       "    <tr>\n",
       "      <th>9</th>\n",
       "      <td>rev:0.154-0.381</td>\n",
       "      <td>0.685712</td>\n",
       "      <td>0.000</td>\n",
       "      <td></td>\n",
       "    </tr>\n",
       "    <tr>\n",
       "      <th>10</th>\n",
       "      <td>rev:0.381-0.803</td>\n",
       "      <td>1.526324</td>\n",
       "      <td>0.000</td>\n",
       "      <td></td>\n",
       "    </tr>\n",
       "    <tr>\n",
       "      <th>11</th>\n",
       "      <td>rev:0.803-1.355</td>\n",
       "      <td>2.441666</td>\n",
       "      <td>0.000</td>\n",
       "      <td></td>\n",
       "    </tr>\n",
       "  </tbody>\n",
       "</table>\n",
       "</div>"
      ]
     },
     "execution_count": 188,
     "metadata": {},
     "output_type": "execute_result"
    }
   ],
   "execution_count": 188
  },
  {
   "metadata": {},
   "cell_type": "markdown",
   "source": "Remove the statistically insignificant features (age:38-45, age:46-52 and rev:0.0133-0.0545) and fit another fit",
   "id": "22686a00263da1d0"
  },
  {
   "metadata": {},
   "cell_type": "markdown",
   "source": "**Fitting Second (Final) Model**",
   "id": "9e3be952be889b74"
  },
  {
   "metadata": {
    "ExecuteTime": {
     "end_time": "2025-07-25T06:50:45.263657Z",
     "start_time": "2025-07-25T06:50:45.258410Z"
    }
   },
   "cell_type": "code",
   "source": [
    "selected_features2 = ['NumberOfTime30-59DaysPastDueNotWorse',\n",
    "                      'NumberOfTime60-89DaysPastDueNotWorse',\n",
    "                      'NumberOfTimes90DaysLate',\n",
    "                      'age:<37', 'age:53-59',\n",
    "                      'age:60-67', 'age:>68', 'rev:<=0.0132',\n",
    "                      'rev:0.0545-0.154', 'rev:0.154-0.381', 'rev:0.381-0.803',\n",
    "                      'rev:0.803-1.355']\n",
    "\n",
    "reference_categories2 = ['age:<37', 'rev:<=0.0132']"
   ],
   "id": "137b374e54ea71a6",
   "outputs": [],
   "execution_count": 189
  },
  {
   "metadata": {
    "ExecuteTime": {
     "end_time": "2025-07-25T06:50:45.291221Z",
     "start_time": "2025-07-25T06:50:45.272182Z"
    }
   },
   "cell_type": "code",
   "source": [
    "X_train_filtered2 = X_train[selected_features2]\n",
    "X_train_filtered2 = X_train_filtered2.drop(columns = reference_categories2)\n",
    "X_test_filtered2 = X_test[selected_features2]\n",
    "X_test_filtered2 = X_test_filtered2.drop(columns = reference_categories2)"
   ],
   "id": "a18761e711425795",
   "outputs": [],
   "execution_count": 190
  },
  {
   "metadata": {
    "ExecuteTime": {
     "end_time": "2025-07-25T06:50:45.864703Z",
     "start_time": "2025-07-25T06:50:45.298241Z"
    }
   },
   "cell_type": "code",
   "source": [
    "model2 = LogisticRegression_p_values()\n",
    "model2.fit(X_train_filtered2, y_train)"
   ],
   "id": "2cf67e321fe21a65",
   "outputs": [],
   "execution_count": 191
  },
  {
   "metadata": {
    "ExecuteTime": {
     "end_time": "2025-07-25T06:50:45.884873Z",
     "start_time": "2025-07-25T06:50:45.872047Z"
    }
   },
   "cell_type": "code",
   "source": [
    "feature_name = X_train_filtered2.columns.values\n",
    "summary_table2 = pd.DataFrame(columns = ['Feature name'], data = feature_name)\n",
    "summary_table2['Coefficients'] = np.transpose(model2.coef_)\n",
    "summary_table2.index = summary_table2.index + 2\n",
    "summary_table2.loc[0] = ['Intercept', model2.intercept_[0]]\n",
    "summary_table2 = summary_table2.sort_index()\n",
    "summary_table2['p_values'] = model2.p_values\n",
    "summary_table2['p > 0.05'] = np.where((summary_table2['p_values'] > 0.05), \"*\", \"\")\n",
    "summary_table2"
   ],
   "id": "85e28339eef74a8",
   "outputs": [
    {
     "data": {
      "text/plain": [
       "                            Feature name  Coefficients  p_values p > 0.05\n",
       "0                              Intercept     -3.746458       NaN         \n",
       "2   NumberOfTime30-59DaysPastDueNotWorse      0.343102     0.000         \n",
       "3   NumberOfTime60-89DaysPastDueNotWorse     -0.623401     0.000         \n",
       "4                NumberOfTimes90DaysLate      0.304268     0.000         \n",
       "5                              age:53-59     -0.196659     0.000         \n",
       "6                              age:60-67     -0.483823     0.000         \n",
       "7                                age:>68     -0.785975     0.000         \n",
       "8                       rev:0.0545-0.154      0.143216     0.015         \n",
       "9                        rev:0.154-0.381      0.641227     0.000         \n",
       "10                       rev:0.381-0.803      1.439760     0.000         \n",
       "11                       rev:0.803-1.355      2.278132     0.000         "
      ],
      "text/html": [
       "<div>\n",
       "<style scoped>\n",
       "    .dataframe tbody tr th:only-of-type {\n",
       "        vertical-align: middle;\n",
       "    }\n",
       "\n",
       "    .dataframe tbody tr th {\n",
       "        vertical-align: top;\n",
       "    }\n",
       "\n",
       "    .dataframe thead th {\n",
       "        text-align: right;\n",
       "    }\n",
       "</style>\n",
       "<table border=\"1\" class=\"dataframe\">\n",
       "  <thead>\n",
       "    <tr style=\"text-align: right;\">\n",
       "      <th></th>\n",
       "      <th>Feature name</th>\n",
       "      <th>Coefficients</th>\n",
       "      <th>p_values</th>\n",
       "      <th>p &gt; 0.05</th>\n",
       "    </tr>\n",
       "  </thead>\n",
       "  <tbody>\n",
       "    <tr>\n",
       "      <th>0</th>\n",
       "      <td>Intercept</td>\n",
       "      <td>-3.746458</td>\n",
       "      <td>NaN</td>\n",
       "      <td></td>\n",
       "    </tr>\n",
       "    <tr>\n",
       "      <th>2</th>\n",
       "      <td>NumberOfTime30-59DaysPastDueNotWorse</td>\n",
       "      <td>0.343102</td>\n",
       "      <td>0.000</td>\n",
       "      <td></td>\n",
       "    </tr>\n",
       "    <tr>\n",
       "      <th>3</th>\n",
       "      <td>NumberOfTime60-89DaysPastDueNotWorse</td>\n",
       "      <td>-0.623401</td>\n",
       "      <td>0.000</td>\n",
       "      <td></td>\n",
       "    </tr>\n",
       "    <tr>\n",
       "      <th>4</th>\n",
       "      <td>NumberOfTimes90DaysLate</td>\n",
       "      <td>0.304268</td>\n",
       "      <td>0.000</td>\n",
       "      <td></td>\n",
       "    </tr>\n",
       "    <tr>\n",
       "      <th>5</th>\n",
       "      <td>age:53-59</td>\n",
       "      <td>-0.196659</td>\n",
       "      <td>0.000</td>\n",
       "      <td></td>\n",
       "    </tr>\n",
       "    <tr>\n",
       "      <th>6</th>\n",
       "      <td>age:60-67</td>\n",
       "      <td>-0.483823</td>\n",
       "      <td>0.000</td>\n",
       "      <td></td>\n",
       "    </tr>\n",
       "    <tr>\n",
       "      <th>7</th>\n",
       "      <td>age:&gt;68</td>\n",
       "      <td>-0.785975</td>\n",
       "      <td>0.000</td>\n",
       "      <td></td>\n",
       "    </tr>\n",
       "    <tr>\n",
       "      <th>8</th>\n",
       "      <td>rev:0.0545-0.154</td>\n",
       "      <td>0.143216</td>\n",
       "      <td>0.015</td>\n",
       "      <td></td>\n",
       "    </tr>\n",
       "    <tr>\n",
       "      <th>9</th>\n",
       "      <td>rev:0.154-0.381</td>\n",
       "      <td>0.641227</td>\n",
       "      <td>0.000</td>\n",
       "      <td></td>\n",
       "    </tr>\n",
       "    <tr>\n",
       "      <th>10</th>\n",
       "      <td>rev:0.381-0.803</td>\n",
       "      <td>1.439760</td>\n",
       "      <td>0.000</td>\n",
       "      <td></td>\n",
       "    </tr>\n",
       "    <tr>\n",
       "      <th>11</th>\n",
       "      <td>rev:0.803-1.355</td>\n",
       "      <td>2.278132</td>\n",
       "      <td>0.000</td>\n",
       "      <td></td>\n",
       "    </tr>\n",
       "  </tbody>\n",
       "</table>\n",
       "</div>"
      ]
     },
     "execution_count": 192,
     "metadata": {},
     "output_type": "execute_result"
    }
   ],
   "execution_count": 192
  },
  {
   "metadata": {
    "ExecuteTime": {
     "end_time": "2025-07-25T06:50:46.002300Z",
     "start_time": "2025-07-25T06:50:45.934106Z"
    }
   },
   "cell_type": "code",
   "source": [
    "model = model2.model\n",
    "y_train_pred = model.predict(X_train_filtered2)\n",
    "y_train_proba_pos = model.predict_proba(X_train_filtered2)[:, 1]\n",
    "\n",
    "y_test_pred = model.predict(X_test_filtered2)\n",
    "y_test_proba_pos  = model.predict_proba(X_test_filtered2)[:, 1]"
   ],
   "id": "e6137c713b9b701d",
   "outputs": [],
   "execution_count": 193
  },
  {
   "metadata": {},
   "cell_type": "markdown",
   "source": "**Evaluating the Model**",
   "id": "5507e126190a5de8"
  },
  {
   "metadata": {},
   "cell_type": "markdown",
   "source": "Confusion Matrix",
   "id": "ce37c04bb33b2acd"
  },
  {
   "metadata": {
    "ExecuteTime": {
     "end_time": "2025-07-25T06:50:46.106840Z",
     "start_time": "2025-07-25T06:50:46.011245Z"
    }
   },
   "cell_type": "code",
   "source": [
    "cm_test  = confusion_matrix(y_test , y_test_pred )\n",
    "\n",
    "disp = ConfusionMatrixDisplay(cm_test, display_labels=[0, 1])\n",
    "disp.plot(cmap=\"Blues\", values_format=\"d\", colorbar=False)\n",
    "plt.title('Test Confusion Matrix')\n",
    "plt.show()"
   ],
   "id": "efda847ee6214f90",
   "outputs": [
    {
     "data": {
      "text/plain": [
       "<Figure size 640x480 with 1 Axes>"
      ],
      "image/png": "[encoded data removed]"
     },
     "metadata": {},
     "output_type": "display_data"
    }
   ],
   "execution_count": 194
  },
  {
   "metadata": {},
   "cell_type": "markdown",
   "source": "ROC-AUC",
   "id": "f8b4f0d8a383808b"
  },
  {
   "metadata": {
    "ExecuteTime": {
     "end_time": "2025-07-25T06:50:46.146745Z",
     "start_time": "2025-07-25T06:50:46.113854Z"
    }
   },
   "cell_type": "code",
   "source": [
    "print(\"Accuracy :\", accuracy_score(y_test, y_test_pred))\n",
    "print(\"ROC‑AUC  :\", roc_auc_score(y_test, y_test_proba_pos))\n",
    "print(classification_report(y_test, y_test_pred, digits=3))"
   ],
   "id": "1873ea7d74ff4685",
   "outputs": [
    {
     "name": "stdout",
     "output_type": "stream",
     "text": [
      "Accuracy : 0.9339666666666666\n",
      "ROC‑AUC  : 0.800566379140492\n",
      "              precision    recall  f1-score   support\n",
      "\n",
      "           0      0.937     0.997     0.966     28013\n",
      "           1      0.516     0.047     0.087      1987\n",
      "\n",
      "    accuracy                          0.934     30000\n",
      "   macro avg      0.726     0.522     0.526     30000\n",
      "weighted avg      0.909     0.934     0.908     30000\n",
      "\n"
     ]
    }
   ],
   "execution_count": 195
  },
  {
   "metadata": {},
   "cell_type": "markdown",
   "source": "The model achieves an ROC-AUC of 0.80, meaning it is much better than random guessing. However, it can be seen from the classification summary that the recall for predicting class 1 is incredly low, at 0.047, meaning only 4.7% of all class 1 are accurately predicted.",
   "id": "b6cad23418d5c046"
  },
  {
   "metadata": {
    "ExecuteTime": {
     "end_time": "2025-07-25T06:50:46.256366Z",
     "start_time": "2025-07-25T06:50:46.165214Z"
    }
   },
   "cell_type": "code",
   "source": [
    "false_positive_rate, true_positive_rate, threshold = roc_curve(y_test.copy(), y_test_proba_pos)\n",
    "\n",
    "plt.plot(false_positive_rate, true_positive_rate)\n",
    "plt.plot(false_positive_rate, false_positive_rate, linestyle = '--', color = 'k')\n",
    "plt.xlabel('False Positive Rate')\n",
    "plt.ylabel('True Positive Rate')\n",
    "plt.title('ROC Curve')"
   ],
   "id": "6e53e000b52cef1c",
   "outputs": [
    {
     "data": {
      "text/plain": [
       "Text(0.5, 1.0, 'ROC Curve')"
      ]
     },
     "execution_count": 196,
     "metadata": {},
     "output_type": "execute_result"
    },
    {
     "data": {
      "text/plain": [
       "<Figure size 640x480 with 1 Axes>"
      ],
      "image/png": "[encoded data removed]"
     },
     "metadata": {},
     "output_type": "display_data"
    }
   ],
   "execution_count": 196
  }
 ],
 "metadata": {
  "kernelspec": {
   "display_name": "Python 3",
   "language": "python",
   "name": "python3"
  },
  "language_info": {
   "codemirror_mode": {
    "name": "ipython",
    "version": 2
   },
   "file_extension": ".py",
   "mimetype": "text/x-python",
   "name": "python",
   "nbconvert_exporter": "python",
   "pygments_lexer": "ipython2",
   "version": "2.7.6"
  }
 },
 "nbformat": 4,
 "nbformat_minor": 5
}
